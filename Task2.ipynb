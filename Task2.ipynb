{
 "cells": [
  {
   "cell_type": "markdown",
   "id": "99b0b2d1",
   "metadata": {},
   "source": [
    "# Create a Guessing Game"
   ]
  },
  {
   "cell_type": "code",
   "execution_count": 4,
   "id": "f9c2f689",
   "metadata": {},
   "outputs": [
    {
     "name": "stdout",
     "output_type": "stream",
     "text": [
      "Welcome to the Guessing Game!\n",
      "I'm thinking of a number between 1 and 100.\n",
      "Enter your guess: 40\n",
      "Too low! Try again.\n",
      "Enter your guess: 60\n",
      "Too high! Try again.\n",
      "Enter your guess: 50\n",
      "Too high! Try again.\n",
      "Enter your guess: 45\n",
      "Too low! Try again.\n",
      "Enter your guess: 48\n",
      "Congratulations! You guessed the number in 5 attempts.\n"
     ]
    }
   ],
   "source": [
    "import random\n",
    "\n",
    "def guessing_game():\n",
    "    # Generate a random number between 1 and 100\n",
    "    number_to_guess = random.randint(1, 100)\n",
    "    attempts = 0\n",
    "    guessed_correctly = False\n",
    "\n",
    "    print(\"Welcome to the Guessing Game!\")\n",
    "    print(\"I'm thinking of a number between 1 and 100.\")\n",
    "\n",
    "    # Loop until the user guesses correctly\n",
    "    while not guessed_correctly:\n",
    "        # Increment attempt count\n",
    "        attempts += 1\n",
    "\n",
    "        # Get user's guess\n",
    "        guess = int(input(\"Enter your guess: \"))\n",
    "\n",
    "        # Compare the guess with the number\n",
    "        if guess < number_to_guess:\n",
    "            print(\"Too low! Try again.\")\n",
    "        elif guess > number_to_guess:\n",
    "            print(\"Too high! Try again.\")\n",
    "        else:\n",
    "            guessed_correctly = True\n",
    "            print(f\"Congratulations! You guessed the number in {attempts} attempts.\")\n",
    "\n",
    "# Run the game\n",
    "guessing_game()\n"
   ]
  },
  {
   "cell_type": "code",
   "execution_count": null,
   "id": "d9250741",
   "metadata": {},
   "outputs": [],
   "source": []
  }
 ],
 "metadata": {
  "kernelspec": {
   "display_name": "Python 3",
   "language": "python",
   "name": "python3"
  },
  "language_info": {
   "codemirror_mode": {
    "name": "ipython",
    "version": 3
   },
   "file_extension": ".py",
   "mimetype": "text/x-python",
   "name": "python",
   "nbconvert_exporter": "python",
   "pygments_lexer": "ipython3",
   "version": "3.8.8"
  }
 },
 "nbformat": 4,
 "nbformat_minor": 5
}
